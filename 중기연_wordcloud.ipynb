{
 "cells": [
  {
   "cell_type": "code",
   "execution_count": 3,
   "metadata": {},
   "outputs": [],
   "source": [
    "import pandas as pd \n",
    "from konlpy.tag import Okt\n",
    "from wordcloud import WordCloud \n",
    "import matplotlib.pyplot as plt\n",
    "import nltk\n",
    "import os\n",
    "t= Okt()\n"
   ]
  },
  {
   "cell_type": "code",
   "execution_count": 4,
   "metadata": {},
   "outputs": [
    {
     "data": {
      "text/html": [
       "<div>\n",
       "<style scoped>\n",
       "    .dataframe tbody tr th:only-of-type {\n",
       "        vertical-align: middle;\n",
       "    }\n",
       "\n",
       "    .dataframe tbody tr th {\n",
       "        vertical-align: top;\n",
       "    }\n",
       "\n",
       "    .dataframe thead th {\n",
       "        text-align: right;\n",
       "    }\n",
       "</style>\n",
       "<table border=\"1\" class=\"dataframe\">\n",
       "  <thead>\n",
       "    <tr style=\"text-align: right;\">\n",
       "      <th></th>\n",
       "      <th>ID</th>\n",
       "      <th>내역사업명</th>\n",
       "      <th>내역사업코드</th>\n",
       "      <th>구분</th>\n",
       "      <th>응답</th>\n",
       "    </tr>\n",
       "  </thead>\n",
       "  <tbody>\n",
       "    <tr>\n",
       "      <th>0</th>\n",
       "      <td>1011981</td>\n",
       "      <td>AI기반고부가신제품기술개발(R&amp;D)</td>\n",
       "      <td>3640501</td>\n",
       "      <td>지원내용</td>\n",
       "      <td>지원금액부족</td>\n",
       "    </tr>\n",
       "    <tr>\n",
       "      <th>1</th>\n",
       "      <td>1011985</td>\n",
       "      <td>AI기반고부가신제품기술개발(R&amp;D)</td>\n",
       "      <td>3640501</td>\n",
       "      <td>지원내용</td>\n",
       "      <td>없다</td>\n",
       "    </tr>\n",
       "    <tr>\n",
       "      <th>2</th>\n",
       "      <td>1011988</td>\n",
       "      <td>AI기반고부가신제품기술개발(R&amp;D)</td>\n",
       "      <td>3640501</td>\n",
       "      <td>운영체계</td>\n",
       "      <td>없다</td>\n",
       "    </tr>\n",
       "    <tr>\n",
       "      <th>3</th>\n",
       "      <td>1011989</td>\n",
       "      <td>AI기반고부가신제품기술개발(R&amp;D)</td>\n",
       "      <td>3640501</td>\n",
       "      <td>지원내용</td>\n",
       "      <td>없다</td>\n",
       "    </tr>\n",
       "    <tr>\n",
       "      <th>4</th>\n",
       "      <td>1011990</td>\n",
       "      <td>AI기반고부가신제품기술개발(R&amp;D)</td>\n",
       "      <td>3640501</td>\n",
       "      <td>지원내용</td>\n",
       "      <td>없다.</td>\n",
       "    </tr>\n",
       "  </tbody>\n",
       "</table>\n",
       "</div>"
      ],
      "text/plain": [
       "        ID                내역사업명   내역사업코드    구분      응답\n",
       "0  1011981  AI기반고부가신제품기술개발(R&D)  3640501  지원내용  지원금액부족\n",
       "1  1011985  AI기반고부가신제품기술개발(R&D)  3640501  지원내용      없다\n",
       "2  1011988  AI기반고부가신제품기술개발(R&D)  3640501  운영체계      없다\n",
       "3  1011989  AI기반고부가신제품기술개발(R&D)  3640501  지원내용      없다\n",
       "4  1011990  AI기반고부가신제품기술개발(R&D)  3640501  지원내용     없다."
      ]
     },
     "execution_count": 4,
     "metadata": {},
     "output_type": "execute_result"
    }
   ],
   "source": [
    "word = pd.read_excel(\"중기연 워드클라우드용 작업파일.xlsx\")\n",
    "word.head()"
   ]
  },
  {
   "cell_type": "code",
   "execution_count": 5,
   "metadata": {},
   "outputs": [
    {
     "data": {
      "text/plain": [
       "326"
      ]
     },
     "execution_count": 5,
     "metadata": {},
     "output_type": "execute_result"
    }
   ],
   "source": [
    "len(word[\"내역사업명\"].unique())"
   ]
  },
  {
   "cell_type": "code",
   "execution_count": 6,
   "metadata": {},
   "outputs": [],
   "source": [
    "text_list = list(word[\"내역사업명\"].unique())"
   ]
  },
  {
   "cell_type": "code",
   "execution_count": 8,
   "metadata": {},
   "outputs": [],
   "source": [
    "def to_txt_sep(title,sep):\n",
    "    t = Okt()\n",
    "    bool = word[(word[\"내역사업명\"] == title) & (word[\"구분\"] == sep)][\"응답\"]\n",
    "    bool.to_csv(f'{title}.txt', sep = '\\t', index = False)\n",
    "    text = open(f'{title}.txt', encoding='UTF8').read()\n",
    "    token = t.nouns(text)\n",
    "    ko = nltk.Text(token)\n",
    "    ko.vocab()\n",
    "    stop_words = [\"과\",\"개\",\"면\",\"응답\",\"무\",\"후\",\"때문\",\"치가\",\"날때\",\"것\",\"없슴\",\"더\",\"좀\",\"등\",\"때\",\"력기\",\"보\",\"쪽\",\"면\"\n",
    "                 \"타\",\"위\",\"못\",\"알\",\"의\",\"함\",\"각각\",\"점\",\"탬\",\"적\",\"수\",\"시\",\"더욱\",\"꼭\",\"충\"]\n",
    "    ko = [each_word for each_word in ko if each_word not in stop_words]\n",
    "    ko = nltk.Text(ko)\n",
    "    data = ko.vocab().most_common(150)\n",
    "    try:\n",
    "        wordcloud = WordCloud(font_path=\"c:/Windows/Fonts/malgun.ttf\", background_color=\"white\").generate_from_frequencies(dict(data))\n",
    "\n",
    "    except:\n",
    "        plt.savefig(f\"wordcloud2/{title}_{sep}(워드클라우드없음).png\")\n",
    "        os.remove(f\"{title}.txt\")\n",
    "    else:\n",
    "        wordcloud.to_file(f\"wordcloud2/{title}_{sep}.png\")\n",
    "        os.remove(f\"{title}.txt\")"
   ]
  },
  {
   "cell_type": "code",
   "execution_count": 9,
   "metadata": {},
   "outputs": [
    {
     "data": {
      "text/plain": [
       "<Figure size 432x288 with 0 Axes>"
      ]
     },
     "metadata": {},
     "output_type": "display_data"
    }
   ],
   "source": [
    "for i in text_list:\n",
    "    to_txt_sep(i,\"운영체계\")"
   ]
  },
  {
   "cell_type": "code",
   "execution_count": 10,
   "metadata": {},
   "outputs": [
    {
     "data": {
      "text/plain": [
       "<Figure size 432x288 with 0 Axes>"
      ]
     },
     "metadata": {},
     "output_type": "display_data"
    }
   ],
   "source": [
    "for i in text_list:\n",
    "    to_txt_sep(i,\"지원내용\")"
   ]
  },
  {
   "cell_type": "code",
   "execution_count": null,
   "metadata": {},
   "outputs": [],
   "source": []
  }
 ],
 "metadata": {
  "interpreter": {
   "hash": "e8d1aadc86641a503cc85f3c31cf023fc3f320b31f990619997eea29654d4852"
  },
  "kernelspec": {
   "display_name": "Python 3.8.11 64-bit ('ds_study': conda)",
   "language": "python",
   "name": "python3"
  },
  "language_info": {
   "codemirror_mode": {
    "name": "ipython",
    "version": 3
   },
   "file_extension": ".py",
   "mimetype": "text/x-python",
   "name": "python",
   "nbconvert_exporter": "python",
   "pygments_lexer": "ipython3",
   "version": "3.8.11"
  },
  "orig_nbformat": 4
 },
 "nbformat": 4,
 "nbformat_minor": 2
}
